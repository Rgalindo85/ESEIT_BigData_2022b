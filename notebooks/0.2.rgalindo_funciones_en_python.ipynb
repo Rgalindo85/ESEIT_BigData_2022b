{
 "cells": [
  {
   "cell_type": "markdown",
   "metadata": {},
   "source": [
    "# Funciones en Python"
   ]
  },
  {
   "cell_type": "code",
   "execution_count": 4,
   "metadata": {},
   "outputs": [
    {
     "name": "stdout",
     "output_type": "stream",
     "text": [
      "x: 3\n",
      "resultado 8\n"
     ]
    },
    {
     "data": {
      "text/plain": "8"
     },
     "execution_count": 4,
     "metadata": {},
     "output_type": "execute_result"
    }
   ],
   "source": [
    "# funcion de x    f(x) = x+5   f(x=3) = 3 + 5 --> 8\n",
    "\n",
    "def suma_mas_cinco(x):\n",
    "    resultado = x + 5\n",
    "\n",
    "    print('x:', x)\n",
    "    print('resultado', resultado)\n",
    "    return resultado\n",
    "\n",
    "suma_mas_cinco(x=3)"
   ]
  },
  {
   "cell_type": "markdown",
   "metadata": {},
   "source": [
    "# Pseudo-codigo"
   ]
  },
  {
   "cell_type": "code",
   "execution_count": 5,
   "metadata": {},
   "outputs": [],
   "source": [
    "# obtener el valor de la suma de los numeros de una lista\n",
    "# obtener el valor minimo y maximo\n",
    "# obtener la media y la desviacion estandar\n",
    "\n",
    "# calcular_valores(lista_numeros)\n",
    "#     suma           = calcular_suma(lista_numeros)\n",
    "#     media, dev_std = calcular_valores_centrales(lista_numeros)\n",
    "#     min_val, max_val = calcular_extremos(lista_numeros)\n",
    "#     return sum, media, dev_std, min_val, max_val"
   ]
  },
  {
   "cell_type": "code",
   "execution_count": 12,
   "metadata": {},
   "outputs": [],
   "source": [
    "import numpy as np\n",
    "\n",
    "def calcular_valores_centrales(lista_numeros):\n",
    "    media   = np.mean(lista_numeros)\n",
    "    dev_std = np.std(lista_numeros)\n",
    "\n",
    "    return media, dev_std\n",
    "\n",
    "def calcular_suma(lista_numeros):\n",
    "    resultado = np.sum(lista_numeros)\n",
    "    return resultado\n",
    "\n",
    "def calcular_extremos(lista_numeros):\n",
    "    min_val = np.min(lista_numeros)\n",
    "    max_val = np.max(lista_numeros)\n",
    "    return min_val, max_val\n",
    "\n",
    "def calcular_valores(lista_numeros):\n",
    "    suma             = calcular_suma(lista_numeros)\n",
    "    media, dev_std   = calcular_valores_centrales(lista_numeros)\n",
    "    min_val, max_val = calcular_extremos(lista_numeros)\n",
    "    \n",
    "    return suma, media, dev_std, min_val, max_val"
   ]
  },
  {
   "cell_type": "code",
   "execution_count": 13,
   "metadata": {},
   "outputs": [
    {
     "data": {
      "text/plain": "(155, 25.833333333333332, 33.58777886209341, 1, 93)"
     },
     "execution_count": 13,
     "metadata": {},
     "output_type": "execute_result"
    }
   ],
   "source": [
    "lista_numeros = [1, 5, 8, 3, 45, 93]\n",
    "\n",
    "calcular_valores(lista_numeros)"
   ]
  },
  {
   "cell_type": "code",
   "execution_count": null,
   "metadata": {},
   "outputs": [],
   "source": []
  }
 ],
 "metadata": {
  "kernelspec": {
   "display_name": "Python 3.7.10 64-bit ('demetria_env': conda)",
   "name": "python3710jvsc74a57bd07fa1f14701f99ce432b0cde0d2324dbaf9074bd23052d8f83c66f5bba9203d90"
  },
  "language_info": {
   "codemirror_mode": {
    "name": "ipython",
    "version": 3
   },
   "file_extension": ".py",
   "mimetype": "text/x-python",
   "name": "python",
   "nbconvert_exporter": "python",
   "pygments_lexer": "ipython3",
   "version": "3.7.10"
  },
  "orig_nbformat": 2
 },
 "nbformat": 4,
 "nbformat_minor": 2
}