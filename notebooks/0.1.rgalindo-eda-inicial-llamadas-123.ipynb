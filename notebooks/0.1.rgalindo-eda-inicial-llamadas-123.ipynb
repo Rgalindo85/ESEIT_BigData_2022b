{
 "cells": [
  {
   "cell_type": "markdown",
   "metadata": {},
   "source": [
    "# EDA (Exploratory Data Analysis) llamadas 123 julio 2022"
   ]
  },
  {
   "cell_type": "code",
   "execution_count": 1,
   "metadata": {},
   "outputs": [],
   "source": [
    "# importar librerias de manipulacion de datos\n",
    "import numpy as np\n",
    "import pandas as pd\n",
    "\n",
    "# importar librerias del sistema\n",
    "import os\n",
    "from pathlib import Path"
   ]
  },
  {
   "cell_type": "code",
   "execution_count": 5,
   "metadata": {},
   "outputs": [
    {
     "name": "stdout",
     "output_type": "stream",
     "text": [
      "root dir: /Users/rogergalindo/ESEIT/BIGDATA_2022B\n"
     ]
    }
   ],
   "source": [
    "root_dir = Path(\".\").resolve().parent\n",
    "print('root dir:', root_dir)"
   ]
  },
  {
   "cell_type": "code",
   "execution_count": 7,
   "metadata": {},
   "outputs": [
    {
     "name": "stdout",
     "output_type": "stream",
     "text": [
      "/Users/rogergalindo/ESEIT/BIGDATA_2022B/data/raw/llamadas123_julio_2022.csv\n"
     ]
    }
   ],
   "source": [
    "filename = \"llamadas123_julio_2022.csv\"\n",
    "data_dir = \"raw\"\n",
    "\n",
    "file_path = os.path.join(root_dir, \"data\", data_dir, filename)\n",
    "\n",
    "print(file_path)"
   ]
  },
  {
   "cell_type": "code",
   "execution_count": 11,
   "metadata": {},
   "outputs": [],
   "source": [
    "data = pd.read_csv(file_path, encoding='latin-1', sep=';')"
   ]
  },
  {
   "cell_type": "code",
   "execution_count": 12,
   "metadata": {},
   "outputs": [
    {
     "data": {
      "text/html": "<div>\n<style scoped>\n    .dataframe tbody tr th:only-of-type {\n        vertical-align: middle;\n    }\n\n    .dataframe tbody tr th {\n        vertical-align: top;\n    }\n\n    .dataframe thead th {\n        text-align: right;\n    }\n</style>\n<table border=\"1\" class=\"dataframe\">\n  <thead>\n    <tr style=\"text-align: right;\">\n      <th></th>\n      <th>NUMERO_INCIDENTE</th>\n      <th>FECHA_INICIO_DESPLAZAMIENTO_MOVIL</th>\n      <th>CODIGO_LOCALIDAD</th>\n      <th>LOCALIDAD</th>\n      <th>EDAD</th>\n      <th>UNIDAD</th>\n      <th>GENERO</th>\n      <th>RED</th>\n      <th>TIPO_INCIDENTE</th>\n      <th>PRIORIDAD</th>\n      <th>RECEPCION</th>\n    </tr>\n  </thead>\n  <tbody>\n    <tr>\n      <th>0</th>\n      <td>CRU-00278353-22</td>\n      <td>2022-07-01 00:08:59</td>\n      <td>11</td>\n      <td>Suba</td>\n      <td>88</td>\n      <td>A¤os</td>\n      <td>FEMENINO</td>\n      <td>Norte</td>\n      <td>Accidente Cerebro Vascular</td>\n      <td>ALTA</td>\n      <td>2022-07-01 03:40:13</td>\n    </tr>\n    <tr>\n      <th>1</th>\n      <td>CRU-00278360-22</td>\n      <td>2022-07-01 00:14:58</td>\n      <td>11</td>\n      <td>Suba</td>\n      <td>16</td>\n      <td>A¤os</td>\n      <td>MASCULINO</td>\n      <td>Norte</td>\n      <td>Herido</td>\n      <td>ALTA</td>\n      <td>2022-07-01 03:38:13</td>\n    </tr>\n    <tr>\n      <th>2</th>\n      <td>CRU-00278365-22</td>\n      <td>2022-07-01 00:21:59</td>\n      <td>18</td>\n      <td>Rafael Uribe Uribe</td>\n      <td>52</td>\n      <td>A¤os</td>\n      <td>FEMENINO</td>\n      <td>Centro Oriente</td>\n      <td>Evento Respiratorio</td>\n      <td>CRITICA</td>\n      <td>2022-07-01 04:08:24</td>\n    </tr>\n    <tr>\n      <th>3</th>\n      <td>CRU-00278370-22</td>\n      <td>2022-07-01 00:38:38</td>\n      <td>19</td>\n      <td>Ciudad Bol¡var</td>\n      <td>SIN_DATO</td>\n      <td>SIN_DATO</td>\n      <td>SIN_DATO</td>\n      <td>Privada</td>\n      <td>Herido</td>\n      <td>ALTA</td>\n      <td>0000-00-00 00:00:00</td>\n    </tr>\n    <tr>\n      <th>4</th>\n      <td>CRU-00278372-22</td>\n      <td>2022-07-01 00:53:32</td>\n      <td>1</td>\n      <td>Usaqun</td>\n      <td>33</td>\n      <td>A¤os</td>\n      <td>MASCULINO</td>\n      <td>Norte</td>\n      <td>Intento de Suicidio</td>\n      <td>ALTA</td>\n      <td>2022-07-01 03:25:29</td>\n    </tr>\n  </tbody>\n</table>\n</div>",
      "text/plain": "  NUMERO_INCIDENTE FECHA_INICIO_DESPLAZAMIENTO_MOVIL  CODIGO_LOCALIDAD  \\\n0  CRU-00278353-22               2022-07-01 00:08:59                11   \n1  CRU-00278360-22               2022-07-01 00:14:58                11   \n2  CRU-00278365-22               2022-07-01 00:21:59                18   \n3  CRU-00278370-22               2022-07-01 00:38:38                19   \n4  CRU-00278372-22               2022-07-01 00:53:32                 1   \n\n            LOCALIDAD      EDAD    UNIDAD     GENERO             RED  \\\n0                Suba        88      A¤os   FEMENINO           Norte   \n1                Suba        16      A¤os  MASCULINO           Norte   \n2  Rafael Uribe Uribe        52      A¤os   FEMENINO  Centro Oriente   \n3      Ciudad Bol¡var  SIN_DATO  SIN_DATO   SIN_DATO         Privada   \n4             Usaqun        33      A¤os  MASCULINO           Norte   \n\n               TIPO_INCIDENTE PRIORIDAD            RECEPCION  \n0  Accidente Cerebro Vascular      ALTA  2022-07-01 03:40:13  \n1                      Herido      ALTA  2022-07-01 03:38:13  \n2         Evento Respiratorio   CRITICA  2022-07-01 04:08:24  \n3                      Herido      ALTA  0000-00-00 00:00:00  \n4         Intento de Suicidio      ALTA  2022-07-01 03:25:29  "
     },
     "execution_count": 12,
     "metadata": {},
     "output_type": "execute_result"
    }
   ],
   "source": [
    "data.head()"
   ]
  },
  {
   "cell_type": "code",
   "execution_count": 14,
   "metadata": {},
   "outputs": [
    {
     "data": {
      "text/plain": "(13055, 11)"
     },
     "execution_count": 14,
     "metadata": {},
     "output_type": "execute_result"
    }
   ],
   "source": [
    "data.shape # retorna una tupla con las dimensiones de la tabla: (n_rows, n_cols)"
   ]
  },
  {
   "cell_type": "code",
   "execution_count": 15,
   "metadata": {},
   "outputs": [
    {
     "data": {
      "text/plain": "NUMERO_INCIDENTE                     object\nFECHA_INICIO_DESPLAZAMIENTO_MOVIL    object\nCODIGO_LOCALIDAD                      int64\nLOCALIDAD                            object\nEDAD                                 object\nUNIDAD                               object\nGENERO                               object\nRED                                  object\nTIPO_INCIDENTE                       object\nPRIORIDAD                            object\nRECEPCION                            object\ndtype: object"
     },
     "execution_count": 15,
     "metadata": {},
     "output_type": "execute_result"
    }
   ],
   "source": [
    "data.dtypes"
   ]
  },
  {
   "cell_type": "code",
   "execution_count": 18,
   "metadata": {},
   "outputs": [
    {
     "data": {
      "text/plain": "3"
     },
     "execution_count": 18,
     "metadata": {},
     "output_type": "execute_result"
    }
   ],
   "source": [
    "# Extraer los valores unicos de las columnas\n",
    "\n",
    "col = 'GENERO'\n",
    "valores_unicos = data[col].unique()\n",
    "len( valores_unicos )"
   ]
  },
  {
   "cell_type": "code",
   "execution_count": 22,
   "metadata": {},
   "outputs": [],
   "source": [
    "# Crear un diccionario vacio\n",
    "dict_resumen = dict()\n",
    "\n",
    "for col in data.columns:\n",
    "    valores_unicos = data[col].unique()\n",
    "    n_valores = len(valores_unicos)\n",
    "    # print(col, n_valores)\n",
    "\n",
    "    dict_resumen[col] = n_valores"
   ]
  },
  {
   "cell_type": "code",
   "execution_count": 28,
   "metadata": {},
   "outputs": [
    {
     "data": {
      "text/html": "<div>\n<style scoped>\n    .dataframe tbody tr th:only-of-type {\n        vertical-align: middle;\n    }\n\n    .dataframe tbody tr th {\n        vertical-align: top;\n    }\n\n    .dataframe thead th {\n        text-align: right;\n    }\n</style>\n<table border=\"1\" class=\"dataframe\">\n  <thead>\n    <tr style=\"text-align: right;\">\n      <th></th>\n      <th>Count</th>\n    </tr>\n  </thead>\n  <tbody>\n    <tr>\n      <th>NUMERO_INCIDENTE</th>\n      <td>12015</td>\n    </tr>\n    <tr>\n      <th>FECHA_INICIO_DESPLAZAMIENTO_MOVIL</th>\n      <td>12781</td>\n    </tr>\n    <tr>\n      <th>CODIGO_LOCALIDAD</th>\n      <td>20</td>\n    </tr>\n    <tr>\n      <th>LOCALIDAD</th>\n      <td>20</td>\n    </tr>\n    <tr>\n      <th>EDAD</th>\n      <td>100</td>\n    </tr>\n    <tr>\n      <th>UNIDAD</th>\n      <td>6</td>\n    </tr>\n    <tr>\n      <th>GENERO</th>\n      <td>3</td>\n    </tr>\n    <tr>\n      <th>RED</th>\n      <td>5</td>\n    </tr>\n    <tr>\n      <th>TIPO_INCIDENTE</th>\n      <td>21</td>\n    </tr>\n    <tr>\n      <th>PRIORIDAD</th>\n      <td>4</td>\n    </tr>\n    <tr>\n      <th>RECEPCION</th>\n      <td>5235</td>\n    </tr>\n  </tbody>\n</table>\n</div>",
      "text/plain": "                                   Count\nNUMERO_INCIDENTE                   12015\nFECHA_INICIO_DESPLAZAMIENTO_MOVIL  12781\nCODIGO_LOCALIDAD                      20\nLOCALIDAD                             20\nEDAD                                 100\nUNIDAD                                 6\nGENERO                                 3\nRED                                    5\nTIPO_INCIDENTE                        21\nPRIORIDAD                              4\nRECEPCION                           5235"
     },
     "execution_count": 28,
     "metadata": {},
     "output_type": "execute_result"
    }
   ],
   "source": [
    "df_resumen = pd.DataFrame.from_dict(dict_resumen, orient='index')\n",
    "df_resumen.rename({0: 'Count'}, axis=1, inplace=True)\n",
    "df_resumen"
   ]
  },
  {
   "cell_type": "code",
   "execution_count": 31,
   "metadata": {},
   "outputs": [],
   "source": [
    "# Guardar la tabla:\n",
    "\n",
    "out_name = 'resumen_' + filename\n",
    "out_path = os.path.join(root_dir, 'data', 'processed', out_name)\n",
    "\n",
    "# print(out_path)\n",
    "df_resumen.to_csv(out_path)"
   ]
  },
  {
   "cell_type": "code",
   "execution_count": null,
   "metadata": {},
   "outputs": [],
   "source": []
  }
 ],
 "metadata": {
  "kernelspec": {
   "display_name": "Python 3.8.13 64-bit ('base': conda)",
   "name": "python3813jvsc74a57bd0b3d8c393c13cc9cc7e30cc7148fbe036bbb5e5d47d6b6a5a57620b5940db2440"
  },
  "language_info": {
   "codemirror_mode": {
    "name": "ipython",
    "version": 3
   },
   "file_extension": ".py",
   "mimetype": "text/x-python",
   "name": "python",
   "nbconvert_exporter": "python",
   "pygments_lexer": "ipython3",
   "version": "3.8.13"
  },
  "metadata": {
   "interpreter": {
    "hash": "aee8b7b246df8f9039afb4144a1f6fd8d2ca17a180786b69acc140d282b71a49"
   }
  },
  "orig_nbformat": 2
 },
 "nbformat": 4,
 "nbformat_minor": 2
}