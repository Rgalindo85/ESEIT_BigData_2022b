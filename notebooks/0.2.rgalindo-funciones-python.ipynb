{
 "cells": [
  {
   "cell_type": "markdown",
   "metadata": {},
   "source": [
    "# Funciones en Python"
   ]
  },
  {
   "cell_type": "code",
   "execution_count": 6,
   "metadata": {},
   "outputs": [],
   "source": [
    "# funcion f(x, y, z) = x + y + z\n",
    "\n",
    "def f(x, y, z):\n",
    "    resultado = x + y + z\n",
    "\n",
    "    return resultado"
   ]
  },
  {
   "cell_type": "code",
   "execution_count": 7,
   "metadata": {},
   "outputs": [
    {
     "data": {
      "text/plain": "6"
     },
     "execution_count": 7,
     "metadata": {},
     "output_type": "execute_result"
    }
   ],
   "source": [
    "f(x=5, y=3, z=-2)"
   ]
  },
  {
   "cell_type": "markdown",
   "metadata": {},
   "source": [
    "## Pseudo Codigo"
   ]
  },
  {
   "cell_type": "markdown",
   "metadata": {},
   "source": [
    "* pipeline\n",
    "\n",
    "llamdaXXX.csv --> read_data --> get_summary --> save_data --> resumen_llamadasXXX.csv"
   ]
  },
  {
   "cell_type": "markdown",
   "metadata": {},
   "source": [
    "PSEUDO CODIGO\n",
    "def main()\n",
    "    get_data()\n",
    "    get_summary()\n",
    "    save_data()"
   ]
  },
  {
   "cell_type": "markdown",
   "metadata": {},
   "source": [
    "# MAS DE FUNCIONES"
   ]
  },
  {
   "cell_type": "code",
   "execution_count": 8,
   "metadata": {},
   "outputs": [],
   "source": [
    "# quiero una funcion que me calcule:\n",
    "# 1. la suma de todos los numeros de una lista\n",
    "# 2. minimo valor de la lista\n",
    "# 3. maximo valor de la lista\n",
    "# 4. la media y la desviacion estandar"
   ]
  },
  {
   "cell_type": "code",
   "execution_count": 24,
   "metadata": {},
   "outputs": [],
   "source": [
    "import numpy as np\n",
    "\n",
    "def calcular_min_max(lista_numeros, verbose=True):\n",
    "    '''\n",
    "    Retorna los valores minimo y maximo de una de lista de numeros\n",
    "    Args:\n",
    "        lista_numeros: type list\n",
    "    '''\n",
    "    min_value = min(lista_numeros)\n",
    "    max_value = max(lista_numeros)\n",
    "\n",
    "    if verbose == True:\n",
    "        print('Valor minimo:', min_value)\n",
    "        print('Valor maximo:', max_value)\n",
    "    else:\n",
    "        pass\n",
    "    return min_value, max_value\n",
    "\n",
    "def calcular_valores_centrales(lista_numeros, verbose=True):\n",
    "    \"\"\"Calcula la media y las desviacion estandar de una lista de\n",
    "    numeros\n",
    "\n",
    "    Args:\n",
    "        lista_numeros (list): lista con valores numericos\n",
    "        verbose (bool, optional): para decidir si imprimir mensajes en pantalla. Defaults to True.\n",
    "\n",
    "    Returns:\n",
    "        tuple: (media, dev_std)\n",
    "    \"\"\"\n",
    "    media   = np.mean(lista_numeros)\n",
    "    dev_std = np.std(lista_numeros)\n",
    "\n",
    "    if verbose == True:\n",
    "        print('Media:', media)\n",
    "        print('Desviacion Estandar:', dev_std)\n",
    "    else:\n",
    "        pass\n",
    "    return media, dev_std\n",
    "\n",
    "def calcular_valores(lista_numeros, verbose=True):\n",
    "    \"\"\"Retorna una tupla con valores suma, minimo, maximo\n",
    "    media y desviacion estandar de un lista de numeros\n",
    "\n",
    "    Args:\n",
    "        lista_numeros (list): lista con valores numericos\n",
    "        verbose (bool, optional): para decidir si imprimir mensajes en pantalla. Defaults to True.\n",
    "\n",
    "    Returns:\n",
    "        _type_: _description_\n",
    "    \"\"\"\n",
    "    suma             = np.sum(lista_numeros)   # calcular_suma(lista_numeros)\n",
    "    min_val, max_val = calcular_min_max(lista_numeros, verbose)\n",
    "    media, dev_std   = calcular_valores_centrales(lista_numeros)\n",
    "\n",
    "    return suma, min_val, max_val, media, dev_std"
   ]
  },
  {
   "cell_type": "code",
   "execution_count": 25,
   "metadata": {},
   "outputs": [
    {
     "name": "stdout",
     "output_type": "stream",
     "text": [
      "Valor minimo: 4\n",
      "Valor maximo: 21\n",
      "Media: 9.4\n",
      "Desviacion Estandar: 6.086049621881176\n"
     ]
    },
    {
     "data": {
      "text/plain": "(47, 4, 21, 9.4, 6.086049621881176)"
     },
     "execution_count": 25,
     "metadata": {},
     "output_type": "execute_result"
    }
   ],
   "source": [
    "lista_valores = [5, 4, 8, 9, 21]   \n",
    "\n",
    "calcular_valores(lista_numeros=lista_valores, verbose=True)"
   ]
  },
  {
   "cell_type": "code",
   "execution_count": null,
   "metadata": {},
   "outputs": [],
   "source": []
  }
 ],
 "metadata": {
  "kernelspec": {
   "display_name": "Python 3.7.10 64-bit ('demetria_env': conda)",
   "name": "python3710jvsc74a57bd07fa1f14701f99ce432b0cde0d2324dbaf9074bd23052d8f83c66f5bba9203d90"
  },
  "language_info": {
   "codemirror_mode": {
    "name": "ipython",
    "version": 3
   },
   "file_extension": ".py",
   "mimetype": "text/x-python",
   "name": "python",
   "nbconvert_exporter": "python",
   "pygments_lexer": "ipython3",
   "version": "3.7.10"
  },
  "orig_nbformat": 2
 },
 "nbformat": 4,
 "nbformat_minor": 2
}