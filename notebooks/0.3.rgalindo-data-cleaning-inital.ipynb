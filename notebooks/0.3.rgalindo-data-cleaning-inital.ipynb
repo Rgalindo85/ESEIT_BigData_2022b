{
 "cells": [
  {
   "cell_type": "markdown",
   "metadata": {},
   "source": [
    "# Data Cleaning 101"
   ]
  },
  {
   "cell_type": "code",
   "execution_count": 24,
   "metadata": {},
   "outputs": [],
   "source": [
    "# importar librerias de manipulacion de datos\n",
    "import numpy as np\n",
    "import pandas as pd\n",
    "\n",
    "# importar librerias del sistema\n",
    "import os\n",
    "from pathlib import Path\n",
    "\n",
    "root_dir = Path(\".\").resolve().parent\n",
    "\n",
    "filename = \"llamadas123_julio_2022.csv\"\n",
    "data_dir = \"raw\"\n",
    "\n",
    "file_path = os.path.join(root_dir, \"data\", data_dir, filename)\n",
    "\n",
    "data = pd.read_csv(file_path, encoding='latin-1', sep=';')"
   ]
  },
  {
   "cell_type": "code",
   "execution_count": 25,
   "metadata": {},
   "outputs": [
    {
     "data": {
      "text/html": "<div>\n<style scoped>\n    .dataframe tbody tr th:only-of-type {\n        vertical-align: middle;\n    }\n\n    .dataframe tbody tr th {\n        vertical-align: top;\n    }\n\n    .dataframe thead th {\n        text-align: right;\n    }\n</style>\n<table border=\"1\" class=\"dataframe\">\n  <thead>\n    <tr style=\"text-align: right;\">\n      <th></th>\n      <th>NUMERO_INCIDENTE</th>\n      <th>FECHA_INICIO_DESPLAZAMIENTO_MOVIL</th>\n      <th>CODIGO_LOCALIDAD</th>\n      <th>LOCALIDAD</th>\n      <th>EDAD</th>\n      <th>UNIDAD</th>\n      <th>GENERO</th>\n      <th>RED</th>\n      <th>TIPO_INCIDENTE</th>\n      <th>PRIORIDAD</th>\n      <th>RECEPCION</th>\n    </tr>\n  </thead>\n  <tbody>\n    <tr>\n      <th>0</th>\n      <td>CRU-00278353-22</td>\n      <td>2022-07-01 00:08:59</td>\n      <td>11</td>\n      <td>Suba</td>\n      <td>88</td>\n      <td>A¤os</td>\n      <td>FEMENINO</td>\n      <td>Norte</td>\n      <td>Accidente Cerebro Vascular</td>\n      <td>ALTA</td>\n      <td>2022-07-01 03:40:13</td>\n    </tr>\n    <tr>\n      <th>1</th>\n      <td>CRU-00278360-22</td>\n      <td>2022-07-01 00:14:58</td>\n      <td>11</td>\n      <td>Suba</td>\n      <td>16</td>\n      <td>A¤os</td>\n      <td>MASCULINO</td>\n      <td>Norte</td>\n      <td>Herido</td>\n      <td>ALTA</td>\n      <td>2022-07-01 03:38:13</td>\n    </tr>\n    <tr>\n      <th>2</th>\n      <td>CRU-00278365-22</td>\n      <td>2022-07-01 00:21:59</td>\n      <td>18</td>\n      <td>Rafael Uribe Uribe</td>\n      <td>52</td>\n      <td>A¤os</td>\n      <td>FEMENINO</td>\n      <td>Centro Oriente</td>\n      <td>Evento Respiratorio</td>\n      <td>CRITICA</td>\n      <td>2022-07-01 04:08:24</td>\n    </tr>\n    <tr>\n      <th>3</th>\n      <td>CRU-00278370-22</td>\n      <td>2022-07-01 00:38:38</td>\n      <td>19</td>\n      <td>Ciudad Bol¡var</td>\n      <td>SIN_DATO</td>\n      <td>SIN_DATO</td>\n      <td>SIN_DATO</td>\n      <td>Privada</td>\n      <td>Herido</td>\n      <td>ALTA</td>\n      <td>0000-00-00 00:00:00</td>\n    </tr>\n    <tr>\n      <th>4</th>\n      <td>CRU-00278372-22</td>\n      <td>2022-07-01 00:53:32</td>\n      <td>1</td>\n      <td>Usaqun</td>\n      <td>33</td>\n      <td>A¤os</td>\n      <td>MASCULINO</td>\n      <td>Norte</td>\n      <td>Intento de Suicidio</td>\n      <td>ALTA</td>\n      <td>2022-07-01 03:25:29</td>\n    </tr>\n  </tbody>\n</table>\n</div>",
      "text/plain": "  NUMERO_INCIDENTE FECHA_INICIO_DESPLAZAMIENTO_MOVIL  CODIGO_LOCALIDAD  \\\n0  CRU-00278353-22               2022-07-01 00:08:59                11   \n1  CRU-00278360-22               2022-07-01 00:14:58                11   \n2  CRU-00278365-22               2022-07-01 00:21:59                18   \n3  CRU-00278370-22               2022-07-01 00:38:38                19   \n4  CRU-00278372-22               2022-07-01 00:53:32                 1   \n\n            LOCALIDAD      EDAD    UNIDAD     GENERO             RED  \\\n0                Suba        88      A¤os   FEMENINO           Norte   \n1                Suba        16      A¤os  MASCULINO           Norte   \n2  Rafael Uribe Uribe        52      A¤os   FEMENINO  Centro Oriente   \n3      Ciudad Bol¡var  SIN_DATO  SIN_DATO   SIN_DATO         Privada   \n4             Usaqun        33      A¤os  MASCULINO           Norte   \n\n               TIPO_INCIDENTE PRIORIDAD            RECEPCION  \n0  Accidente Cerebro Vascular      ALTA  2022-07-01 03:40:13  \n1                      Herido      ALTA  2022-07-01 03:38:13  \n2         Evento Respiratorio   CRITICA  2022-07-01 04:08:24  \n3                      Herido      ALTA  0000-00-00 00:00:00  \n4         Intento de Suicidio      ALTA  2022-07-01 03:25:29  "
     },
     "execution_count": 25,
     "metadata": {},
     "output_type": "execute_result"
    }
   ],
   "source": [
    "data.head()"
   ]
  },
  {
   "cell_type": "code",
   "execution_count": 26,
   "metadata": {},
   "outputs": [
    {
     "name": "stdout",
     "output_type": "stream",
     "text": [
      "<class 'pandas.core.frame.DataFrame'>\n",
      "RangeIndex: 13055 entries, 0 to 13054\n",
      "Data columns (total 11 columns):\n",
      " #   Column                             Non-Null Count  Dtype \n",
      "---  ------                             --------------  ----- \n",
      " 0   NUMERO_INCIDENTE                   13055 non-null  object\n",
      " 1   FECHA_INICIO_DESPLAZAMIENTO_MOVIL  13055 non-null  object\n",
      " 2   CODIGO_LOCALIDAD                   13055 non-null  int64 \n",
      " 3   LOCALIDAD                          13055 non-null  object\n",
      " 4   EDAD                               13055 non-null  object\n",
      " 5   UNIDAD                             13047 non-null  object\n",
      " 6   GENERO                             13055 non-null  object\n",
      " 7   RED                                13055 non-null  object\n",
      " 8   TIPO_INCIDENTE                     13055 non-null  object\n",
      " 9   PRIORIDAD                          13055 non-null  object\n",
      " 10  RECEPCION                          13055 non-null  object\n",
      "dtypes: int64(1), object(10)\n",
      "memory usage: 1.1+ MB\n"
     ]
    }
   ],
   "source": [
    "# Obtener informacion basica de los datos\n",
    "data.info()"
   ]
  },
  {
   "cell_type": "code",
   "execution_count": 29,
   "metadata": {},
   "outputs": [
    {
     "name": "stdout",
     "output_type": "stream",
     "text": [
      "forma inicial (13026, 11)\n",
      "forma final (13026, 11)\n"
     ]
    }
   ],
   "source": [
    "# Eliminar registros duplicados\n",
    "print('forma inicial', data.shape)\n",
    "data = data.drop_duplicates()\n",
    "data.reset_index(inplace=True, drop=True)\n",
    "print('forma final', data.shape)"
   ]
  },
  {
   "cell_type": "code",
   "execution_count": 30,
   "metadata": {},
   "outputs": [
    {
     "data": {
      "text/html": "<div>\n<style scoped>\n    .dataframe tbody tr th:only-of-type {\n        vertical-align: middle;\n    }\n\n    .dataframe tbody tr th {\n        vertical-align: top;\n    }\n\n    .dataframe thead th {\n        text-align: right;\n    }\n</style>\n<table border=\"1\" class=\"dataframe\">\n  <thead>\n    <tr style=\"text-align: right;\">\n      <th></th>\n      <th>NUMERO_INCIDENTE</th>\n      <th>FECHA_INICIO_DESPLAZAMIENTO_MOVIL</th>\n      <th>CODIGO_LOCALIDAD</th>\n      <th>LOCALIDAD</th>\n      <th>EDAD</th>\n      <th>UNIDAD</th>\n      <th>GENERO</th>\n      <th>RED</th>\n      <th>TIPO_INCIDENTE</th>\n      <th>PRIORIDAD</th>\n      <th>RECEPCION</th>\n    </tr>\n  </thead>\n  <tbody>\n    <tr>\n      <th>0</th>\n      <td>CRU-00278353-22</td>\n      <td>2022-07-01 00:08:59</td>\n      <td>11</td>\n      <td>Suba</td>\n      <td>88</td>\n      <td>A¤os</td>\n      <td>FEMENINO</td>\n      <td>Norte</td>\n      <td>Accidente Cerebro Vascular</td>\n      <td>ALTA</td>\n      <td>2022-07-01 03:40:13</td>\n    </tr>\n    <tr>\n      <th>1</th>\n      <td>CRU-00278360-22</td>\n      <td>2022-07-01 00:14:58</td>\n      <td>11</td>\n      <td>Suba</td>\n      <td>16</td>\n      <td>A¤os</td>\n      <td>MASCULINO</td>\n      <td>Norte</td>\n      <td>Herido</td>\n      <td>ALTA</td>\n      <td>2022-07-01 03:38:13</td>\n    </tr>\n    <tr>\n      <th>2</th>\n      <td>CRU-00278365-22</td>\n      <td>2022-07-01 00:21:59</td>\n      <td>18</td>\n      <td>Rafael Uribe Uribe</td>\n      <td>52</td>\n      <td>A¤os</td>\n      <td>FEMENINO</td>\n      <td>Centro Oriente</td>\n      <td>Evento Respiratorio</td>\n      <td>CRITICA</td>\n      <td>2022-07-01 04:08:24</td>\n    </tr>\n    <tr>\n      <th>3</th>\n      <td>CRU-00278370-22</td>\n      <td>2022-07-01 00:38:38</td>\n      <td>19</td>\n      <td>Ciudad Bol¡var</td>\n      <td>SIN_DATO</td>\n      <td>SIN_DATO</td>\n      <td>SIN_DATO</td>\n      <td>Privada</td>\n      <td>Herido</td>\n      <td>ALTA</td>\n      <td>0000-00-00 00:00:00</td>\n    </tr>\n    <tr>\n      <th>4</th>\n      <td>CRU-00278372-22</td>\n      <td>2022-07-01 00:53:32</td>\n      <td>1</td>\n      <td>Usaqun</td>\n      <td>33</td>\n      <td>A¤os</td>\n      <td>MASCULINO</td>\n      <td>Norte</td>\n      <td>Intento de Suicidio</td>\n      <td>ALTA</td>\n      <td>2022-07-01 03:25:29</td>\n    </tr>\n  </tbody>\n</table>\n</div>",
      "text/plain": "  NUMERO_INCIDENTE FECHA_INICIO_DESPLAZAMIENTO_MOVIL  CODIGO_LOCALIDAD  \\\n0  CRU-00278353-22               2022-07-01 00:08:59                11   \n1  CRU-00278360-22               2022-07-01 00:14:58                11   \n2  CRU-00278365-22               2022-07-01 00:21:59                18   \n3  CRU-00278370-22               2022-07-01 00:38:38                19   \n4  CRU-00278372-22               2022-07-01 00:53:32                 1   \n\n            LOCALIDAD      EDAD    UNIDAD     GENERO             RED  \\\n0                Suba        88      A¤os   FEMENINO           Norte   \n1                Suba        16      A¤os  MASCULINO           Norte   \n2  Rafael Uribe Uribe        52      A¤os   FEMENINO  Centro Oriente   \n3      Ciudad Bol¡var  SIN_DATO  SIN_DATO   SIN_DATO         Privada   \n4             Usaqun        33      A¤os  MASCULINO           Norte   \n\n               TIPO_INCIDENTE PRIORIDAD            RECEPCION  \n0  Accidente Cerebro Vascular      ALTA  2022-07-01 03:40:13  \n1                      Herido      ALTA  2022-07-01 03:38:13  \n2         Evento Respiratorio   CRITICA  2022-07-01 04:08:24  \n3                      Herido      ALTA  0000-00-00 00:00:00  \n4         Intento de Suicidio      ALTA  2022-07-01 03:25:29  "
     },
     "execution_count": 30,
     "metadata": {},
     "output_type": "execute_result"
    }
   ],
   "source": [
    "data.head()"
   ]
  },
  {
   "cell_type": "code",
   "execution_count": 31,
   "metadata": {},
   "outputs": [
    {
     "name": "stdout",
     "output_type": "stream",
     "text": [
      "<class 'pandas.core.frame.DataFrame'>\n",
      "RangeIndex: 13026 entries, 0 to 13025\n",
      "Data columns (total 11 columns):\n",
      " #   Column                             Non-Null Count  Dtype \n",
      "---  ------                             --------------  ----- \n",
      " 0   NUMERO_INCIDENTE                   13026 non-null  object\n",
      " 1   FECHA_INICIO_DESPLAZAMIENTO_MOVIL  13026 non-null  object\n",
      " 2   CODIGO_LOCALIDAD                   13026 non-null  int64 \n",
      " 3   LOCALIDAD                          13026 non-null  object\n",
      " 4   EDAD                               13026 non-null  object\n",
      " 5   UNIDAD                             13018 non-null  object\n",
      " 6   GENERO                             13026 non-null  object\n",
      " 7   RED                                13026 non-null  object\n",
      " 8   TIPO_INCIDENTE                     13026 non-null  object\n",
      " 9   PRIORIDAD                          13026 non-null  object\n",
      " 10  RECEPCION                          13026 non-null  object\n",
      "dtypes: int64(1), object(10)\n",
      "memory usage: 1.1+ MB\n"
     ]
    }
   ],
   "source": [
    "data.info()"
   ]
  },
  {
   "cell_type": "code",
   "execution_count": 39,
   "metadata": {},
   "outputs": [
    {
     "data": {
      "text/plain": "A¤os        0.520574\nSIN_DATO    0.475587\nMeses       0.002994\nHoras       0.000461\nDias        0.000384\nName: UNIDAD, dtype: float64"
     },
     "execution_count": 39,
     "metadata": {},
     "output_type": "execute_result"
    }
   ],
   "source": [
    "# Tratamiento de valores nulos\n",
    "# nulo de strings --> SIN_DATO , N/A\n",
    "# nulo de numeros --> np.nan\n",
    "# nulo de fechas --> NaT\n",
    "\n",
    "col = 'UNIDAD'\n",
    "# data[col].value_counts(dropna=False, normalize=True)\n",
    "data[col].fillna('SIN_DATO', inplace=True)\n",
    "data[col].value_counts(dropna=False, normalize=True)"
   ]
  },
  {
   "cell_type": "code",
   "execution_count": 40,
   "metadata": {},
   "outputs": [
    {
     "name": "stdout",
     "output_type": "stream",
     "text": [
      "<class 'pandas.core.frame.DataFrame'>\n",
      "RangeIndex: 13026 entries, 0 to 13025\n",
      "Data columns (total 11 columns):\n",
      " #   Column                             Non-Null Count  Dtype \n",
      "---  ------                             --------------  ----- \n",
      " 0   NUMERO_INCIDENTE                   13026 non-null  object\n",
      " 1   FECHA_INICIO_DESPLAZAMIENTO_MOVIL  13026 non-null  object\n",
      " 2   CODIGO_LOCALIDAD                   13026 non-null  int64 \n",
      " 3   LOCALIDAD                          13026 non-null  object\n",
      " 4   EDAD                               13026 non-null  object\n",
      " 5   UNIDAD                             13026 non-null  object\n",
      " 6   GENERO                             13026 non-null  object\n",
      " 7   RED                                13026 non-null  object\n",
      " 8   TIPO_INCIDENTE                     13026 non-null  object\n",
      " 9   PRIORIDAD                          13026 non-null  object\n",
      " 10  RECEPCION                          13026 non-null  object\n",
      "dtypes: int64(1), object(10)\n",
      "memory usage: 1.1+ MB\n"
     ]
    }
   ],
   "source": [
    "data.info()"
   ]
  },
  {
   "cell_type": "code",
   "execution_count": 56,
   "metadata": {},
   "outputs": [
    {
     "data": {
      "text/plain": "Timestamp('1985-05-28 00:00:00')"
     },
     "execution_count": 56,
     "metadata": {},
     "output_type": "execute_result"
    }
   ],
   "source": [
    "fecha = '1985-05-28 00:00:00'\n",
    "pd.to_datetime(fecha, errors='coerce', format='%Y/%m/%d')\n"
   ]
  },
  {
   "cell_type": "code",
   "execution_count": 57,
   "metadata": {},
   "outputs": [
    {
     "name": "stdout",
     "output_type": "stream",
     "text": [
      "<class 'pandas.core.frame.DataFrame'>\n",
      "RangeIndex: 13026 entries, 0 to 13025\n",
      "Data columns (total 11 columns):\n",
      " #   Column                             Non-Null Count  Dtype         \n",
      "---  ------                             --------------  -----         \n",
      " 0   NUMERO_INCIDENTE                   13026 non-null  object        \n",
      " 1   FECHA_INICIO_DESPLAZAMIENTO_MOVIL  13025 non-null  datetime64[ns]\n",
      " 2   CODIGO_LOCALIDAD                   13026 non-null  int64         \n",
      " 3   LOCALIDAD                          13026 non-null  object        \n",
      " 4   EDAD                               13026 non-null  object        \n",
      " 5   UNIDAD                             13026 non-null  object        \n",
      " 6   GENERO                             13026 non-null  object        \n",
      " 7   RED                                13026 non-null  object        \n",
      " 8   TIPO_INCIDENTE                     13026 non-null  object        \n",
      " 9   PRIORIDAD                          13026 non-null  object        \n",
      " 10  RECEPCION                          13026 non-null  object        \n",
      "dtypes: datetime64[ns](1), int64(1), object(9)\n",
      "memory usage: 1.1+ MB\n"
     ]
    }
   ],
   "source": [
    "col = 'FECHA_INICIO_DESPLAZAMIENTO_MOVIL'\n",
    "data[col] = pd.to_datetime(data[col], errors='coerce')\n",
    "data.info()"
   ]
  },
  {
   "cell_type": "code",
   "execution_count": 59,
   "metadata": {},
   "outputs": [
    {
     "data": {
      "text/plain": "0         88\n1         16\n2         52\n3        NaN\n4         33\n        ... \n13021     18\n13022    NaN\n13023     11\n13024     19\n13025    NaN\nName: EDAD, Length: 13026, dtype: object"
     },
     "execution_count": 59,
     "metadata": {},
     "output_type": "execute_result"
    }
   ],
   "source": [
    "col = 'EDAD'\n",
    "data[col].replace({'SIN_DATO': np.nan}, inplace=True)\n",
    "data[col]"
   ]
  },
  {
   "cell_type": "code",
   "execution_count": 62,
   "metadata": {},
   "outputs": [
    {
     "data": {
      "text/plain": "array(['88', '16', '52', nan, '33', '57', '65', '14', '83', '35', '19',\n       '53', '56', '45', '2', '18', '34', '84', '80', '7', '64', '41',\n       '28', '23', '85', '92', '38', '11', '58', '70', '50', '27', '67',\n       '54', '87', '24', '90', '99', '49', '91', '21', '62', '59', '26',\n       '78', '30', '32', '51', '15', '79', '37', '60', '76', '22', '47',\n       '61', '82', '86', '77', '63', '39', '89', '36', '97', '40', '75',\n       '13', '25', '73', '69', '72', '68', '44', '31', '74', '81', '43',\n       '20', '66', '10', '48', '29', '8', '17', '94', '55', '1', '4', '3',\n       '9', '71', '46', '6', '95', '93', '98', '96', '42', '5', '12'],\n      dtype=object)"
     },
     "execution_count": 62,
     "metadata": {},
     "output_type": "execute_result"
    }
   ],
   "source": [
    "data[col].unique()"
   ]
  },
  {
   "cell_type": "code",
   "execution_count": 63,
   "metadata": {},
   "outputs": [
    {
     "data": {
      "text/plain": "16"
     },
     "execution_count": 63,
     "metadata": {},
     "output_type": "execute_result"
    }
   ],
   "source": [
    "# funciones lambda\n",
    "\n",
    "def f(x):\n",
    "    resultado = x**2\n",
    "    return resultado\n",
    "\n",
    "x=4\n",
    "f(x)"
   ]
  },
  {
   "cell_type": "code",
   "execution_count": 64,
   "metadata": {},
   "outputs": [
    {
     "data": {
      "text/plain": "16"
     },
     "execution_count": 64,
     "metadata": {},
     "output_type": "execute_result"
    }
   ],
   "source": [
    "f = lambda x: x**2\n",
    "\n",
    "x=4\n",
    "f(x)"
   ]
  },
  {
   "cell_type": "code",
   "execution_count": null,
   "metadata": {},
   "outputs": [],
   "source": [
    "def to_int(x):\n",
    "    if pd.isna(x) == True:\n",
    "        return x\n",
    "    else:\n",
    "        return int(x)"
   ]
  },
  {
   "cell_type": "code",
   "execution_count": 69,
   "metadata": {},
   "outputs": [
    {
     "data": {
      "text/plain": "28"
     },
     "execution_count": 69,
     "metadata": {},
     "output_type": "execute_result"
    }
   ],
   "source": [
    "# str_num = np.nan\n",
    "str_num = '28'\n",
    "f = lambda x: x if pd.isna(x) else int(x)\n",
    "\n",
    "f(str_num)"
   ]
  },
  {
   "cell_type": "code",
   "execution_count": 73,
   "metadata": {},
   "outputs": [],
   "source": [
    "data[col] = data[col].apply(f)"
   ]
  },
  {
   "cell_type": "code",
   "execution_count": 74,
   "metadata": {},
   "outputs": [
    {
     "name": "stdout",
     "output_type": "stream",
     "text": [
      "<class 'pandas.core.frame.DataFrame'>\n",
      "RangeIndex: 13026 entries, 0 to 13025\n",
      "Data columns (total 11 columns):\n",
      " #   Column                             Non-Null Count  Dtype         \n",
      "---  ------                             --------------  -----         \n",
      " 0   NUMERO_INCIDENTE                   13026 non-null  object        \n",
      " 1   FECHA_INICIO_DESPLAZAMIENTO_MOVIL  13025 non-null  datetime64[ns]\n",
      " 2   CODIGO_LOCALIDAD                   13026 non-null  int64         \n",
      " 3   LOCALIDAD                          13026 non-null  object        \n",
      " 4   EDAD                               6839 non-null   float64       \n",
      " 5   UNIDAD                             13026 non-null  object        \n",
      " 6   GENERO                             13026 non-null  object        \n",
      " 7   RED                                13026 non-null  object        \n",
      " 8   TIPO_INCIDENTE                     13026 non-null  object        \n",
      " 9   PRIORIDAD                          13026 non-null  object        \n",
      " 10  RECEPCION                          13026 non-null  object        \n",
      "dtypes: datetime64[ns](1), float64(1), int64(1), object(8)\n",
      "memory usage: 1.1+ MB\n"
     ]
    }
   ],
   "source": [
    "data.info()"
   ]
  },
  {
   "cell_type": "code",
   "execution_count": 75,
   "metadata": {},
   "outputs": [
    {
     "data": {
      "text/plain": "0        2022-07-01 03:40:13\n1        2022-07-01 03:38:13\n2        2022-07-01 04:08:24\n3        0000-00-00 00:00:00\n4        2022-07-01 03:25:29\n                ...         \n13021         8/08/2022 6:48\n13022    0000-00-00 00:00:00\n13023        9/08/2022 13:13\n13024    0000-00-00 00:00:00\n13025    0000-00-00 00:00:00\nName: RECEPCION, Length: 13026, dtype: object"
     },
     "execution_count": 75,
     "metadata": {},
     "output_type": "execute_result"
    }
   ],
   "source": [
    "col = 'RECEPCION'\n",
    "data[col]"
   ]
  },
  {
   "cell_type": "code",
   "execution_count": 86,
   "metadata": {},
   "outputs": [
    {
     "data": {
      "text/plain": "datetime.datetime(2021, 5, 29, 0, 0)"
     },
     "execution_count": 86,
     "metadata": {},
     "output_type": "execute_result"
    }
   ],
   "source": [
    "# Mas de datetimes\n",
    "from dateutil.parser import parse\n",
    "fecha = 'may 29th  2021'\n",
    "# pd.to_datetime(fecha)\n",
    "parse(fecha)"
   ]
  },
  {
   "cell_type": "code",
   "execution_count": 101,
   "metadata": {},
   "outputs": [],
   "source": [
    "fechas = lambda x: parse(x)\n",
    "\n",
    "list_fechas = list()\n",
    "for fecha in data[col]:\n",
    "    try:\n",
    "        new_fecha = parse(fecha)\n",
    "    except Exception as e:\n",
    "        new_fecha = pd.to_datetime(fecha, errors='coerce')\n",
    "    \n",
    "    list_fechas.append(new_fecha)\n",
    "\n",
    "data['RECEPCION_Corr'] = list_fechas"
   ]
  },
  {
   "cell_type": "code",
   "execution_count": 102,
   "metadata": {},
   "outputs": [
    {
     "data": {
      "text/html": "<div>\n<style scoped>\n    .dataframe tbody tr th:only-of-type {\n        vertical-align: middle;\n    }\n\n    .dataframe tbody tr th {\n        vertical-align: top;\n    }\n\n    .dataframe thead th {\n        text-align: right;\n    }\n</style>\n<table border=\"1\" class=\"dataframe\">\n  <thead>\n    <tr style=\"text-align: right;\">\n      <th></th>\n      <th>NUMERO_INCIDENTE</th>\n      <th>FECHA_INICIO_DESPLAZAMIENTO_MOVIL</th>\n      <th>CODIGO_LOCALIDAD</th>\n      <th>LOCALIDAD</th>\n      <th>EDAD</th>\n      <th>UNIDAD</th>\n      <th>GENERO</th>\n      <th>RED</th>\n      <th>TIPO_INCIDENTE</th>\n      <th>PRIORIDAD</th>\n      <th>RECEPCION</th>\n      <th>RECEPCION_Corr</th>\n    </tr>\n  </thead>\n  <tbody>\n    <tr>\n      <th>0</th>\n      <td>CRU-00278353-22</td>\n      <td>2022-07-01 00:08:59</td>\n      <td>11</td>\n      <td>Suba</td>\n      <td>88.0</td>\n      <td>A¤os</td>\n      <td>FEMENINO</td>\n      <td>Norte</td>\n      <td>Accidente Cerebro Vascular</td>\n      <td>ALTA</td>\n      <td>2022-07-01 03:40:13</td>\n      <td>2022-07-01 03:40:13</td>\n    </tr>\n    <tr>\n      <th>1</th>\n      <td>CRU-00278360-22</td>\n      <td>2022-07-01 00:14:58</td>\n      <td>11</td>\n      <td>Suba</td>\n      <td>16.0</td>\n      <td>A¤os</td>\n      <td>MASCULINO</td>\n      <td>Norte</td>\n      <td>Herido</td>\n      <td>ALTA</td>\n      <td>2022-07-01 03:38:13</td>\n      <td>2022-07-01 03:38:13</td>\n    </tr>\n    <tr>\n      <th>2</th>\n      <td>CRU-00278365-22</td>\n      <td>2022-07-01 00:21:59</td>\n      <td>18</td>\n      <td>Rafael Uribe Uribe</td>\n      <td>52.0</td>\n      <td>A¤os</td>\n      <td>FEMENINO</td>\n      <td>Centro Oriente</td>\n      <td>Evento Respiratorio</td>\n      <td>CRITICA</td>\n      <td>2022-07-01 04:08:24</td>\n      <td>2022-07-01 04:08:24</td>\n    </tr>\n    <tr>\n      <th>3</th>\n      <td>CRU-00278370-22</td>\n      <td>2022-07-01 00:38:38</td>\n      <td>19</td>\n      <td>Ciudad Bol¡var</td>\n      <td>NaN</td>\n      <td>SIN_DATO</td>\n      <td>SIN_DATO</td>\n      <td>Privada</td>\n      <td>Herido</td>\n      <td>ALTA</td>\n      <td>0000-00-00 00:00:00</td>\n      <td>NaT</td>\n    </tr>\n    <tr>\n      <th>4</th>\n      <td>CRU-00278372-22</td>\n      <td>2022-07-01 00:53:32</td>\n      <td>1</td>\n      <td>Usaqun</td>\n      <td>33.0</td>\n      <td>A¤os</td>\n      <td>MASCULINO</td>\n      <td>Norte</td>\n      <td>Intento de Suicidio</td>\n      <td>ALTA</td>\n      <td>2022-07-01 03:25:29</td>\n      <td>2022-07-01 03:25:29</td>\n    </tr>\n  </tbody>\n</table>\n</div>",
      "text/plain": "  NUMERO_INCIDENTE FECHA_INICIO_DESPLAZAMIENTO_MOVIL  CODIGO_LOCALIDAD  \\\n0  CRU-00278353-22               2022-07-01 00:08:59                11   \n1  CRU-00278360-22               2022-07-01 00:14:58                11   \n2  CRU-00278365-22               2022-07-01 00:21:59                18   \n3  CRU-00278370-22               2022-07-01 00:38:38                19   \n4  CRU-00278372-22               2022-07-01 00:53:32                 1   \n\n            LOCALIDAD  EDAD    UNIDAD     GENERO             RED  \\\n0                Suba  88.0      A¤os   FEMENINO           Norte   \n1                Suba  16.0      A¤os  MASCULINO           Norte   \n2  Rafael Uribe Uribe  52.0      A¤os   FEMENINO  Centro Oriente   \n3      Ciudad Bol¡var   NaN  SIN_DATO   SIN_DATO         Privada   \n4             Usaqun  33.0      A¤os  MASCULINO           Norte   \n\n               TIPO_INCIDENTE PRIORIDAD            RECEPCION  \\\n0  Accidente Cerebro Vascular      ALTA  2022-07-01 03:40:13   \n1                      Herido      ALTA  2022-07-01 03:38:13   \n2         Evento Respiratorio   CRITICA  2022-07-01 04:08:24   \n3                      Herido      ALTA  0000-00-00 00:00:00   \n4         Intento de Suicidio      ALTA  2022-07-01 03:25:29   \n\n       RECEPCION_Corr  \n0 2022-07-01 03:40:13  \n1 2022-07-01 03:38:13  \n2 2022-07-01 04:08:24  \n3                 NaT  \n4 2022-07-01 03:25:29  "
     },
     "execution_count": 102,
     "metadata": {},
     "output_type": "execute_result"
    }
   ],
   "source": [
    "data.head()"
   ]
  },
  {
   "cell_type": "code",
   "execution_count": 103,
   "metadata": {},
   "outputs": [
    {
     "name": "stdout",
     "output_type": "stream",
     "text": [
      "<class 'pandas.core.frame.DataFrame'>\n",
      "RangeIndex: 13026 entries, 0 to 13025\n",
      "Data columns (total 12 columns):\n",
      " #   Column                             Non-Null Count  Dtype         \n",
      "---  ------                             --------------  -----         \n",
      " 0   NUMERO_INCIDENTE                   13026 non-null  object        \n",
      " 1   FECHA_INICIO_DESPLAZAMIENTO_MOVIL  13025 non-null  datetime64[ns]\n",
      " 2   CODIGO_LOCALIDAD                   13026 non-null  int64         \n",
      " 3   LOCALIDAD                          13026 non-null  object        \n",
      " 4   EDAD                               6839 non-null   float64       \n",
      " 5   UNIDAD                             13026 non-null  object        \n",
      " 6   GENERO                             13026 non-null  object        \n",
      " 7   RED                                13026 non-null  object        \n",
      " 8   TIPO_INCIDENTE                     13026 non-null  object        \n",
      " 9   PRIORIDAD                          13026 non-null  object        \n",
      " 10  RECEPCION                          13026 non-null  object        \n",
      " 11  RECEPCION_Corr                     5259 non-null   datetime64[ns]\n",
      "dtypes: datetime64[ns](2), float64(1), int64(1), object(8)\n",
      "memory usage: 1.2+ MB\n"
     ]
    }
   ],
   "source": [
    "data.info()"
   ]
  },
  {
   "cell_type": "code",
   "execution_count": 107,
   "metadata": {},
   "outputs": [
    {
     "name": "stdout",
     "output_type": "stream",
     "text": [
      "Big Data\n",
      " Big Data\n"
     ]
    }
   ],
   "source": [
    "# strings\n",
    "\n",
    "word1 = 'Big Data'\n",
    "word2 = ' Big Data'\n",
    "\n",
    "print(word1.strip())\n",
    "print(word2)"
   ]
  },
  {
   "cell_type": "code",
   "execution_count": 110,
   "metadata": {},
   "outputs": [
    {
     "data": {
      "text/plain": "'Big_Data'"
     },
     "execution_count": 110,
     "metadata": {},
     "output_type": "execute_result"
    }
   ],
   "source": [
    "word1.replace(' ', '_')"
   ]
  },
  {
   "cell_type": "code",
   "execution_count": 114,
   "metadata": {},
   "outputs": [
    {
     "name": "stdout",
     "output_type": "stream",
     "text": [
      "BIG DATA\n",
      "big data\n",
      "Big data\n"
     ]
    }
   ],
   "source": [
    "print(word1.upper())\n",
    "print(word1.lower())\n",
    "print(word1.capitalize())"
   ]
  },
  {
   "cell_type": "code",
   "execution_count": 119,
   "metadata": {},
   "outputs": [
    {
     "data": {
      "text/plain": "array(['Suba', 'Rafael Uribe Uribe', 'Ciudad Bol¡var', 'Usaqu\\x82n',\n       'La Candelaria', 'Antonio Nari¤o', 'San Crist¢bal', 'Teusaquillo',\n       'Kennedy', 'Usme', 'Bosa', 'Tunjuelito', 'Engativ\\xa0',\n       'Los M\\xa0rtires', 'Fontib¢n', 'Chapinero', 'Puente Aranda',\n       'Santa Fe', 'Barrios Unidos', 'Sumapaz'], dtype=object)"
     },
     "execution_count": 119,
     "metadata": {},
     "output_type": "execute_result"
    }
   ],
   "source": [
    "col = 'LOCALIDAD'\n",
    "data[col].unique()"
   ]
  },
  {
   "cell_type": "code",
   "execution_count": 126,
   "metadata": {},
   "outputs": [
    {
     "data": {
      "text/plain": "'Los Martires'"
     },
     "execution_count": 126,
     "metadata": {},
     "output_type": "execute_result"
    }
   ],
   "source": [
    "import re\n",
    "\n",
    "# txt = 'Los M\\xa0rtires'\n",
    "# txt = 'suba'\n",
    "\n",
    "def encontrar_patron(patron, txt):\n",
    "    if re.search(patron, txt):\n",
    "        new_txt = 'Los Martires'\n",
    "        return new_txt\n",
    "    else:\n",
    "        pass\n",
    "\n",
    "encontrar_patron(\"Los.*tires\", 'Los M\\xa0rtires')"
   ]
  },
  {
   "cell_type": "code",
   "execution_count": 127,
   "metadata": {},
   "outputs": [],
   "source": [
    "encontrar_patron(\"Los.*tires\", 'Usaqu/en')"
   ]
  },
  {
   "cell_type": "code",
   "execution_count": null,
   "metadata": {},
   "outputs": [],
   "source": []
  },
  {
   "cell_type": "code",
   "execution_count": null,
   "metadata": {},
   "outputs": [],
   "source": []
  },
  {
   "cell_type": "code",
   "execution_count": 12,
   "metadata": {},
   "outputs": [
    {
     "data": {
      "text/html": "<div>\n<style scoped>\n    .dataframe tbody tr th:only-of-type {\n        vertical-align: middle;\n    }\n\n    .dataframe tbody tr th {\n        vertical-align: top;\n    }\n\n    .dataframe thead th {\n        text-align: right;\n    }\n</style>\n<table border=\"1\" class=\"dataframe\">\n  <thead>\n    <tr style=\"text-align: right;\">\n      <th></th>\n      <th>NUMERO_INCIDENTE</th>\n      <th>FECHA_INICIO_DESPLAZAMIENTO_MOVIL</th>\n      <th>CODIGO_LOCALIDAD</th>\n      <th>LOCALIDAD</th>\n      <th>EDAD</th>\n      <th>UNIDAD</th>\n      <th>GENERO</th>\n      <th>RED</th>\n      <th>TIPO_INCIDENTE</th>\n      <th>PRIORIDAD</th>\n      <th>RECEPCION</th>\n    </tr>\n  </thead>\n  <tbody>\n    <tr>\n      <th>828</th>\n      <td>CRU-00281231-22</td>\n      <td>2022-07-02 20:14:51</td>\n      <td>12</td>\n      <td>Barrios Unidos</td>\n      <td>SIN_DATO</td>\n      <td>SIN_DATO</td>\n      <td>SIN_DATO</td>\n      <td>Norte</td>\n      <td>Enfermo</td>\n      <td>MEDIA</td>\n      <td>0000-00-00 00:00:00</td>\n    </tr>\n    <tr>\n      <th>1067</th>\n      <td>CRU-00282185-22</td>\n      <td>2022-07-03 09:59:22</td>\n      <td>11</td>\n      <td>Suba</td>\n      <td>SIN_DATO</td>\n      <td>SIN_DATO</td>\n      <td>SIN_DATO</td>\n      <td>Privada</td>\n      <td>Herido</td>\n      <td>ALTA</td>\n      <td>0000-00-00 00:00:00</td>\n    </tr>\n    <tr>\n      <th>1471</th>\n      <td>CRU-00283540-22</td>\n      <td>2022-07-04 04:09:13</td>\n      <td>12</td>\n      <td>Barrios Unidos</td>\n      <td>31</td>\n      <td>A¤os</td>\n      <td>MASCULINO</td>\n      <td>Norte</td>\n      <td>Herido</td>\n      <td>MEDIA</td>\n      <td>2022-07-04 05:40:01</td>\n    </tr>\n    <tr>\n      <th>1818</th>\n      <td>CRU-00284606-22</td>\n      <td>2022-07-05 00:08:08</td>\n      <td>18</td>\n      <td>Rafael Uribe Uribe</td>\n      <td>SIN_DATO</td>\n      <td>SIN_DATO</td>\n      <td>SIN_DATO</td>\n      <td>Sur</td>\n      <td>Intento de Suicidio</td>\n      <td>CRITICA</td>\n      <td>0000-00-00 00:00:00</td>\n    </tr>\n    <tr>\n      <th>1962</th>\n      <td>CRU-00284980-22</td>\n      <td>2022-07-05 09:02:30</td>\n      <td>10</td>\n      <td>Engativ</td>\n      <td>SIN_DATO</td>\n      <td>SIN_DATO</td>\n      <td>SIN_DATO</td>\n      <td>Norte</td>\n      <td>Herido</td>\n      <td>ALTA</td>\n      <td>0000-00-00 00:00:00</td>\n    </tr>\n    <tr>\n      <th>2466</th>\n      <td>CRU-00286910-22</td>\n      <td>2022-07-06 14:35:54</td>\n      <td>16</td>\n      <td>Puente Aranda</td>\n      <td>SIN_DATO</td>\n      <td>SIN_DATO</td>\n      <td>SIN_DATO</td>\n      <td>Privada</td>\n      <td>Herido</td>\n      <td>ALTA</td>\n      <td>0000-00-00 00:00:00</td>\n    </tr>\n    <tr>\n      <th>3125</th>\n      <td>CRU-00289436-22</td>\n      <td>2022-07-08 09:01:13</td>\n      <td>10</td>\n      <td>Engativ</td>\n      <td>SIN_DATO</td>\n      <td>SIN_DATO</td>\n      <td>SIN_DATO</td>\n      <td>Norte</td>\n      <td>Evento Respiratorio</td>\n      <td>CRITICA</td>\n      <td>0000-00-00 00:00:00</td>\n    </tr>\n    <tr>\n      <th>4740</th>\n      <td>CRU-00295702-22</td>\n      <td>2022-07-12 06:31:42</td>\n      <td>1</td>\n      <td>Usaqun</td>\n      <td>SIN_DATO</td>\n      <td>SIN_DATO</td>\n      <td>SIN_DATO</td>\n      <td>Norte</td>\n      <td>Herido</td>\n      <td>ALTA</td>\n      <td>0000-00-00 00:00:00</td>\n    </tr>\n    <tr>\n      <th>5975</th>\n      <td>CRU-00300664-22</td>\n      <td>2022-07-15 08:27:16</td>\n      <td>8</td>\n      <td>Kennedy</td>\n      <td>SIN_DATO</td>\n      <td>SIN_DATO</td>\n      <td>SIN_DATO</td>\n      <td>Sur Occidente</td>\n      <td>Herido</td>\n      <td>ALTA</td>\n      <td>0000-00-00 00:00:00</td>\n    </tr>\n    <tr>\n      <th>6055</th>\n      <td>CRU-00300911-22</td>\n      <td>2022-07-15 11:22:07</td>\n      <td>2</td>\n      <td>Chapinero</td>\n      <td>SIN_DATO</td>\n      <td>SIN_DATO</td>\n      <td>SIN_DATO</td>\n      <td>Norte</td>\n      <td>Inconsciente / Paro cardiorespiratorio</td>\n      <td>CRITICA</td>\n      <td>0000-00-00 00:00:00</td>\n    </tr>\n    <tr>\n      <th>6930</th>\n      <td>CRU-00304712-22</td>\n      <td>2022-07-17 09:44:45</td>\n      <td>2</td>\n      <td>Chapinero</td>\n      <td>23</td>\n      <td>A¤os</td>\n      <td>MASCULINO</td>\n      <td>Norte</td>\n      <td>Herido</td>\n      <td>ALTA</td>\n      <td>0000-00-00 00:00:00</td>\n    </tr>\n    <tr>\n      <th>7277</th>\n      <td>CRU-00305975-22</td>\n      <td>2022-07-18 01:27:48</td>\n      <td>10</td>\n      <td>Engativ</td>\n      <td>SIN_DATO</td>\n      <td>SIN_DATO</td>\n      <td>SIN_DATO</td>\n      <td>Norte</td>\n      <td>Dolor Tor cico</td>\n      <td>CRITICA</td>\n      <td>0000-00-00 00:00:00</td>\n    </tr>\n    <tr>\n      <th>7341</th>\n      <td>CRU-00306136-22</td>\n      <td>2022-07-18 07:14:14</td>\n      <td>4</td>\n      <td>San Crist¢bal</td>\n      <td>SIN_DATO</td>\n      <td>SIN_DATO</td>\n      <td>SIN_DATO</td>\n      <td>Centro Oriente</td>\n      <td>Inconsciente / Paro cardiorespiratorio</td>\n      <td>CRITICA</td>\n      <td>0000-00-00 00:00:00</td>\n    </tr>\n    <tr>\n      <th>7790</th>\n      <td>CRU-00308045-22</td>\n      <td>2022-07-19 11:02:02</td>\n      <td>2</td>\n      <td>Chapinero</td>\n      <td>30</td>\n      <td>A¤os</td>\n      <td>FEMENINO</td>\n      <td>Norte</td>\n      <td>Intoxicaci¢n</td>\n      <td>CRITICA</td>\n      <td>0000-00-00 00:00:00</td>\n    </tr>\n    <tr>\n      <th>7796</th>\n      <td>CRU-00308045-22</td>\n      <td>2022-07-19 11:02:02</td>\n      <td>2</td>\n      <td>Chapinero</td>\n      <td>31</td>\n      <td>A¤os</td>\n      <td>FEMENINO</td>\n      <td>Norte</td>\n      <td>Intoxicaci¢n</td>\n      <td>CRITICA</td>\n      <td>0000-00-00 00:00:00</td>\n    </tr>\n    <tr>\n      <th>7802</th>\n      <td>CRU-00308045-22</td>\n      <td>2022-07-19 11:02:02</td>\n      <td>2</td>\n      <td>Chapinero</td>\n      <td>37</td>\n      <td>A¤os</td>\n      <td>FEMENINO</td>\n      <td>Norte</td>\n      <td>Intoxicaci¢n</td>\n      <td>CRITICA</td>\n      <td>0000-00-00 00:00:00</td>\n    </tr>\n    <tr>\n      <th>7803</th>\n      <td>CRU-00308045-22</td>\n      <td>2022-07-19 11:02:02</td>\n      <td>2</td>\n      <td>Chapinero</td>\n      <td>47</td>\n      <td>A¤os</td>\n      <td>FEMENINO</td>\n      <td>Norte</td>\n      <td>Intoxicaci¢n</td>\n      <td>CRITICA</td>\n      <td>0000-00-00 00:00:00</td>\n    </tr>\n    <tr>\n      <th>8175</th>\n      <td>CRU-00309622-22</td>\n      <td>2022-07-20 10:34:27</td>\n      <td>3</td>\n      <td>Santa Fe</td>\n      <td>SIN_DATO</td>\n      <td>SIN_DATO</td>\n      <td>SIN_DATO</td>\n      <td>Centro Oriente</td>\n      <td>Inconsciente / Paro cardiorespiratorio</td>\n      <td>CRITICA</td>\n      <td>0000-00-00 00:00:00</td>\n    </tr>\n    <tr>\n      <th>8601</th>\n      <td>CRU-00281370-22</td>\n      <td>2022-07-21 11:46:35</td>\n      <td>14</td>\n      <td>Los M rtires</td>\n      <td>18</td>\n      <td>A¤os</td>\n      <td>FEMENINO</td>\n      <td>Norte</td>\n      <td>Acompa¤amiento Evento</td>\n      <td>BAJA</td>\n      <td>0000-00-00 00:00:00</td>\n    </tr>\n    <tr>\n      <th>8643</th>\n      <td>CRU-00311494-22</td>\n      <td>2022-07-21 14:14:47</td>\n      <td>18</td>\n      <td>Rafael Uribe Uribe</td>\n      <td>15</td>\n      <td>A¤os</td>\n      <td>FEMENINO</td>\n      <td>Sur Occidente</td>\n      <td>Intoxicaci¢n</td>\n      <td>CRITICA</td>\n      <td>0000-00-00 00:00:00</td>\n    </tr>\n    <tr>\n      <th>8645</th>\n      <td>CRU-00311494-22</td>\n      <td>2022-07-21 14:14:47</td>\n      <td>18</td>\n      <td>Rafael Uribe Uribe</td>\n      <td>15</td>\n      <td>A¤os</td>\n      <td>FEMENINO</td>\n      <td>Sur Occidente</td>\n      <td>Intoxicaci¢n</td>\n      <td>CRITICA</td>\n      <td>0000-00-00 00:00:00</td>\n    </tr>\n    <tr>\n      <th>8646</th>\n      <td>CRU-00311494-22</td>\n      <td>2022-07-21 14:14:47</td>\n      <td>18</td>\n      <td>Rafael Uribe Uribe</td>\n      <td>15</td>\n      <td>A¤os</td>\n      <td>FEMENINO</td>\n      <td>Sur Occidente</td>\n      <td>Intoxicaci¢n</td>\n      <td>CRITICA</td>\n      <td>0000-00-00 00:00:00</td>\n    </tr>\n    <tr>\n      <th>9351</th>\n      <td>CRU-00314021-22</td>\n      <td>2022-07-23 09:49:37</td>\n      <td>14</td>\n      <td>Los M rtires</td>\n      <td>2</td>\n      <td>A¤os</td>\n      <td>FEMENINO</td>\n      <td>Norte</td>\n      <td>Acompa¤amiento Evento</td>\n      <td>BAJA</td>\n      <td>0000-00-00 00:00:00</td>\n    </tr>\n    <tr>\n      <th>10294</th>\n      <td>CRU-00314020-22</td>\n      <td>2022-07-25 15:33:01</td>\n      <td>10</td>\n      <td>Engativ</td>\n      <td>SIN_DATO</td>\n      <td>SIN_DATO</td>\n      <td>SIN_DATO</td>\n      <td>Norte</td>\n      <td>Acompa¤amiento Evento</td>\n      <td>BAJA</td>\n      <td>0000-00-00 00:00:00</td>\n    </tr>\n    <tr>\n      <th>10589</th>\n      <td>CRU-00319063-22</td>\n      <td>2022-07-26 10:05:54</td>\n      <td>6</td>\n      <td>Tunjuelito</td>\n      <td>17</td>\n      <td>A¤os</td>\n      <td>MASCULINO</td>\n      <td>Sur</td>\n      <td>Enfermo</td>\n      <td>MEDIA</td>\n      <td>0000-00-00 00:00:00</td>\n    </tr>\n    <tr>\n      <th>10590</th>\n      <td>CRU-00319063-22</td>\n      <td>2022-07-26 10:05:54</td>\n      <td>6</td>\n      <td>Tunjuelito</td>\n      <td>17</td>\n      <td>A¤os</td>\n      <td>MASCULINO</td>\n      <td>Sur</td>\n      <td>Enfermo</td>\n      <td>MEDIA</td>\n      <td>0000-00-00 00:00:00</td>\n    </tr>\n    <tr>\n      <th>10635</th>\n      <td>CRU-00319169-22</td>\n      <td>2022-07-26 11:54:45</td>\n      <td>7</td>\n      <td>Bosa</td>\n      <td>SIN_DATO</td>\n      <td>SIN_DATO</td>\n      <td>SIN_DATO</td>\n      <td>Privada</td>\n      <td>Herido</td>\n      <td>CRITICA</td>\n      <td>0000-00-00 00:00:00</td>\n    </tr>\n    <tr>\n      <th>11853</th>\n      <td>CRU-00323983-22</td>\n      <td>2022-07-29 13:26:36</td>\n      <td>10</td>\n      <td>Engativ</td>\n      <td>SIN_DATO</td>\n      <td>SIN_DATO</td>\n      <td>SIN_DATO</td>\n      <td>Norte</td>\n      <td>Inconsciente / Paro cardiorespiratorio</td>\n      <td>CRITICA</td>\n      <td>0000-00-00 00:00:00</td>\n    </tr>\n    <tr>\n      <th>12854</th>\n      <td>CRU-00328161-22</td>\n      <td>2022-07-31 15:48:53</td>\n      <td>4</td>\n      <td>San Crist¢bal</td>\n      <td>SIN_DATO</td>\n      <td>SIN_DATO</td>\n      <td>SIN_DATO</td>\n      <td>Centro Oriente</td>\n      <td>Enfermo</td>\n      <td>ALTA</td>\n      <td>0000-00-00 00:00:00</td>\n    </tr>\n  </tbody>\n</table>\n</div>",
      "text/plain": "      NUMERO_INCIDENTE FECHA_INICIO_DESPLAZAMIENTO_MOVIL  CODIGO_LOCALIDAD  \\\n828    CRU-00281231-22               2022-07-02 20:14:51                12   \n1067   CRU-00282185-22               2022-07-03 09:59:22                11   \n1471   CRU-00283540-22               2022-07-04 04:09:13                12   \n1818   CRU-00284606-22               2022-07-05 00:08:08                18   \n1962   CRU-00284980-22               2022-07-05 09:02:30                10   \n2466   CRU-00286910-22               2022-07-06 14:35:54                16   \n3125   CRU-00289436-22               2022-07-08 09:01:13                10   \n4740   CRU-00295702-22               2022-07-12 06:31:42                 1   \n5975   CRU-00300664-22               2022-07-15 08:27:16                 8   \n6055   CRU-00300911-22               2022-07-15 11:22:07                 2   \n6930   CRU-00304712-22               2022-07-17 09:44:45                 2   \n7277   CRU-00305975-22               2022-07-18 01:27:48                10   \n7341   CRU-00306136-22               2022-07-18 07:14:14                 4   \n7790   CRU-00308045-22               2022-07-19 11:02:02                 2   \n7796   CRU-00308045-22               2022-07-19 11:02:02                 2   \n7802   CRU-00308045-22               2022-07-19 11:02:02                 2   \n7803   CRU-00308045-22               2022-07-19 11:02:02                 2   \n8175   CRU-00309622-22               2022-07-20 10:34:27                 3   \n8601   CRU-00281370-22               2022-07-21 11:46:35                14   \n8643   CRU-00311494-22               2022-07-21 14:14:47                18   \n8645   CRU-00311494-22               2022-07-21 14:14:47                18   \n8646   CRU-00311494-22               2022-07-21 14:14:47                18   \n9351   CRU-00314021-22               2022-07-23 09:49:37                14   \n10294  CRU-00314020-22               2022-07-25 15:33:01                10   \n10589  CRU-00319063-22               2022-07-26 10:05:54                 6   \n10590  CRU-00319063-22               2022-07-26 10:05:54                 6   \n10635  CRU-00319169-22               2022-07-26 11:54:45                 7   \n11853  CRU-00323983-22               2022-07-29 13:26:36                10   \n12854  CRU-00328161-22               2022-07-31 15:48:53                 4   \n\n                LOCALIDAD      EDAD    UNIDAD     GENERO             RED  \\\n828        Barrios Unidos  SIN_DATO  SIN_DATO   SIN_DATO           Norte   \n1067                 Suba  SIN_DATO  SIN_DATO   SIN_DATO         Privada   \n1471       Barrios Unidos        31      A¤os  MASCULINO           Norte   \n1818   Rafael Uribe Uribe  SIN_DATO  SIN_DATO   SIN_DATO             Sur   \n1962             Engativ   SIN_DATO  SIN_DATO   SIN_DATO           Norte   \n2466        Puente Aranda  SIN_DATO  SIN_DATO   SIN_DATO         Privada   \n3125             Engativ   SIN_DATO  SIN_DATO   SIN_DATO           Norte   \n4740              Usaqun  SIN_DATO  SIN_DATO   SIN_DATO           Norte   \n5975              Kennedy  SIN_DATO  SIN_DATO   SIN_DATO   Sur Occidente   \n6055            Chapinero  SIN_DATO  SIN_DATO   SIN_DATO           Norte   \n6930            Chapinero        23      A¤os  MASCULINO           Norte   \n7277             Engativ   SIN_DATO  SIN_DATO   SIN_DATO           Norte   \n7341        San Crist¢bal  SIN_DATO  SIN_DATO   SIN_DATO  Centro Oriente   \n7790            Chapinero        30      A¤os   FEMENINO           Norte   \n7796            Chapinero        31      A¤os   FEMENINO           Norte   \n7802            Chapinero        37      A¤os   FEMENINO           Norte   \n7803            Chapinero        47      A¤os   FEMENINO           Norte   \n8175             Santa Fe  SIN_DATO  SIN_DATO   SIN_DATO  Centro Oriente   \n8601         Los M rtires        18      A¤os   FEMENINO           Norte   \n8643   Rafael Uribe Uribe        15      A¤os   FEMENINO   Sur Occidente   \n8645   Rafael Uribe Uribe        15      A¤os   FEMENINO   Sur Occidente   \n8646   Rafael Uribe Uribe        15      A¤os   FEMENINO   Sur Occidente   \n9351         Los M rtires         2      A¤os   FEMENINO           Norte   \n10294            Engativ   SIN_DATO  SIN_DATO   SIN_DATO           Norte   \n10589          Tunjuelito        17      A¤os  MASCULINO             Sur   \n10590          Tunjuelito        17      A¤os  MASCULINO             Sur   \n10635                Bosa  SIN_DATO  SIN_DATO   SIN_DATO         Privada   \n11853            Engativ   SIN_DATO  SIN_DATO   SIN_DATO           Norte   \n12854       San Crist¢bal  SIN_DATO  SIN_DATO   SIN_DATO  Centro Oriente   \n\n                               TIPO_INCIDENTE PRIORIDAD            RECEPCION  \n828                                   Enfermo     MEDIA  0000-00-00 00:00:00  \n1067                                   Herido      ALTA  0000-00-00 00:00:00  \n1471                                   Herido     MEDIA  2022-07-04 05:40:01  \n1818                      Intento de Suicidio   CRITICA  0000-00-00 00:00:00  \n1962                                   Herido      ALTA  0000-00-00 00:00:00  \n2466                                   Herido      ALTA  0000-00-00 00:00:00  \n3125                      Evento Respiratorio   CRITICA  0000-00-00 00:00:00  \n4740                                   Herido      ALTA  0000-00-00 00:00:00  \n5975                                   Herido      ALTA  0000-00-00 00:00:00  \n6055   Inconsciente / Paro cardiorespiratorio   CRITICA  0000-00-00 00:00:00  \n6930                                   Herido      ALTA  0000-00-00 00:00:00  \n7277                           Dolor Tor cico   CRITICA  0000-00-00 00:00:00  \n7341   Inconsciente / Paro cardiorespiratorio   CRITICA  0000-00-00 00:00:00  \n7790                             Intoxicaci¢n   CRITICA  0000-00-00 00:00:00  \n7796                             Intoxicaci¢n   CRITICA  0000-00-00 00:00:00  \n7802                             Intoxicaci¢n   CRITICA  0000-00-00 00:00:00  \n7803                             Intoxicaci¢n   CRITICA  0000-00-00 00:00:00  \n8175   Inconsciente / Paro cardiorespiratorio   CRITICA  0000-00-00 00:00:00  \n8601                    Acompa¤amiento Evento      BAJA  0000-00-00 00:00:00  \n8643                             Intoxicaci¢n   CRITICA  0000-00-00 00:00:00  \n8645                             Intoxicaci¢n   CRITICA  0000-00-00 00:00:00  \n8646                             Intoxicaci¢n   CRITICA  0000-00-00 00:00:00  \n9351                    Acompa¤amiento Evento      BAJA  0000-00-00 00:00:00  \n10294                   Acompa¤amiento Evento      BAJA  0000-00-00 00:00:00  \n10589                                 Enfermo     MEDIA  0000-00-00 00:00:00  \n10590                                 Enfermo     MEDIA  0000-00-00 00:00:00  \n10635                                  Herido   CRITICA  0000-00-00 00:00:00  \n11853  Inconsciente / Paro cardiorespiratorio   CRITICA  0000-00-00 00:00:00  \n12854                                 Enfermo      ALTA  0000-00-00 00:00:00  "
     },
     "execution_count": 12,
     "metadata": {},
     "output_type": "execute_result"
    }
   ],
   "source": [
    "# Pendiente de explicacion\n",
    "data[\n",
    "    data.index.isin(data_no_dup.index) == False\n",
    "]"
   ]
  },
  {
   "cell_type": "code",
   "execution_count": null,
   "metadata": {},
   "outputs": [],
   "source": []
  }
 ],
 "metadata": {
  "kernelspec": {
   "display_name": "Python 3.7.10 64-bit",
   "name": "python3710jvsc74a57bd07fa1f14701f99ce432b0cde0d2324dbaf9074bd23052d8f83c66f5bba9203d90"
  },
  "language_info": {
   "codemirror_mode": {
    "name": "ipython",
    "version": 3
   },
   "file_extension": ".py",
   "mimetype": "text/x-python",
   "name": "python",
   "nbconvert_exporter": "python",
   "pygments_lexer": "ipython3",
   "version": "3.7.10"
  },
  "orig_nbformat": 2
 },
 "nbformat": 4,
 "nbformat_minor": 2
}